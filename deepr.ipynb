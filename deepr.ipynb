{
 "cells": [
  {
   "cell_type": "markdown",
   "id": "ee0307e9",
   "metadata": {},
   "source": [
    "# CS598 Deep Learning for Healthcare Final Project\n",
    "## Reproduction of Deepr: A Convolutional Net for Medical Records\n",
    "### Juan Alvarez Martinez, Shane Sepac"
   ]
  },
  {
   "cell_type": "code",
   "execution_count": 2,
   "id": "6e5c535c",
   "metadata": {},
   "outputs": [],
   "source": [
    "### TODO: Include summary and report of findings here [200 words]"
   ]
  },
  {
   "cell_type": "markdown",
   "id": "36b0ba21",
   "metadata": {},
   "source": [
    "## Load MIMIC-III Dataset. \n",
    "- Ensure you have all environment variables from .env.sample copied and instantiated in a .env file!\n",
    "- Ensure required dependencies are available to kernel"
   ]
  },
  {
   "cell_type": "code",
   "execution_count": 19,
   "id": "e4700fc7",
   "metadata": {},
   "outputs": [
    {
     "name": "stdout",
     "output_type": "stream",
     "text": [
      "Requirement already satisfied: boto3 in /Users/shanesepac/anaconda3/lib/python3.10/site-packages (1.26.109)\n",
      "Requirement already satisfied: s3transfer<0.7.0,>=0.6.0 in /Users/shanesepac/anaconda3/lib/python3.10/site-packages (from boto3) (0.6.0)\n",
      "Requirement already satisfied: botocore<1.30.0,>=1.29.109 in /Users/shanesepac/anaconda3/lib/python3.10/site-packages (from boto3) (1.29.109)\n",
      "Requirement already satisfied: jmespath<2.0.0,>=0.7.1 in /Users/shanesepac/anaconda3/lib/python3.10/site-packages (from boto3) (0.10.0)\n",
      "Requirement already satisfied: python-dateutil<3.0.0,>=2.1 in /Users/shanesepac/anaconda3/lib/python3.10/site-packages (from botocore<1.30.0,>=1.29.109->boto3) (2.8.2)\n",
      "Requirement already satisfied: urllib3<1.27,>=1.25.4 in /Users/shanesepac/anaconda3/lib/python3.10/site-packages (from botocore<1.30.0,>=1.29.109->boto3) (1.26.14)\n",
      "Requirement already satisfied: six>=1.5 in /Users/shanesepac/anaconda3/lib/python3.10/site-packages (from python-dateutil<3.0.0,>=2.1->botocore<1.30.0,>=1.29.109->boto3) (1.16.0)\n",
      "Requirement already satisfied: python-dotenv in /Users/shanesepac/anaconda3/lib/python3.10/site-packages (1.0.0)\n",
      "Requirement already satisfied: pandas in /Users/shanesepac/anaconda3/lib/python3.10/site-packages (1.5.3)\n",
      "Requirement already satisfied: python-dateutil>=2.8.1 in /Users/shanesepac/anaconda3/lib/python3.10/site-packages (from pandas) (2.8.2)\n",
      "Requirement already satisfied: pytz>=2020.1 in /Users/shanesepac/anaconda3/lib/python3.10/site-packages (from pandas) (2022.7)\n",
      "Requirement already satisfied: numpy>=1.21.0 in /Users/shanesepac/anaconda3/lib/python3.10/site-packages (from pandas) (1.23.5)\n",
      "Requirement already satisfied: six>=1.5 in /Users/shanesepac/anaconda3/lib/python3.10/site-packages (from python-dateutil>=2.8.1->pandas) (1.16.0)\n"
     ]
    }
   ],
   "source": [
    "!pip3 install boto3 python-dotenv pandas"
   ]
  },
  {
   "cell_type": "code",
   "execution_count": null,
   "id": "9251964c",
   "metadata": {},
   "outputs": [],
   "source": [
    "%load ./utils.py"
   ]
  },
  {
   "cell_type": "code",
   "execution_count": 24,
   "id": "9753cec1",
   "metadata": {},
   "outputs": [
    {
     "name": "stdout",
     "output_type": "stream",
     "text": [
      "     ROW_ID  CATEGORY SECTIONRANGE              SECTIONHEADER SUBSECTIONRANGE   \n",
      "0         1         1  99201-99499  Evaluation and management     99201-99216  \\\n",
      "1         2         1  99201-99499  Evaluation and management     99217-99220   \n",
      "2         3         1  99201-99499  Evaluation and management     99221-99239   \n",
      "3         4         1  99201-99499  Evaluation and management     99241-99255   \n",
      "4         5         1  99201-99499  Evaluation and management     99261-99263   \n",
      "..      ...       ...          ...                        ...             ...   \n",
      "129     130         2  0001F-7025F    Performance measurement     5005F-5100F   \n",
      "130     131         2  0001F-7025F    Performance measurement     6005F-6045F   \n",
      "131     132         2  0001F-7025F    Performance measurement     7010F-7025F   \n",
      "132     133         3  0016T-0207T        Emerging technology     0016T-0207T   \n",
      "133     134         3  0256T-0259T        Emerging technology     0256T-0259T   \n",
      "\n",
      "                                      SUBSECTIONHEADER CODESUFFIX   \n",
      "0                     Office/other outpatient services        NaN  \\\n",
      "1                        Hospital observation services        NaN   \n",
      "2                          Hospital inpatient services        NaN   \n",
      "3                                        Consultations        NaN   \n",
      "4    Follow-up inpatient consultations (deleted codes)        NaN   \n",
      "..                                                 ...        ...   \n",
      "129                        Follow-up or other outcomes          F   \n",
      "130                                     Patient safety          F   \n",
      "131                                Structural Measures          F   \n",
      "132                                    Temporary codes          T   \n",
      "133                                    Temporary codes          T   \n",
      "\n",
      "     MINCODEINSUBSECTION  MAXCODEINSUBSECTION  \n",
      "0                  99201                99216  \n",
      "1                  99217                99220  \n",
      "2                  99221                99239  \n",
      "3                  99241                99255  \n",
      "4                  99261                99263  \n",
      "..                   ...                  ...  \n",
      "129                 5005                 5100  \n",
      "130                 6005                 6045  \n",
      "131                 7010                 7025  \n",
      "132                   16                  207  \n",
      "133                  256                  259  \n",
      "\n",
      "[134 rows x 9 columns]\n"
     ]
    }
   ],
   "source": [
    "import pandas as pd\n",
    "from utils import readS3CSV\n",
    "\n",
    "df = readS3CSV(\"D_CPT.csv\")\n",
    "print(df)"
   ]
  }
 ],
 "metadata": {
  "kernelspec": {
   "display_name": "Python 3 (ipykernel)",
   "language": "python",
   "name": "python3"
  },
  "language_info": {
   "codemirror_mode": {
    "name": "ipython",
    "version": 3
   },
   "file_extension": ".py",
   "mimetype": "text/x-python",
   "name": "python",
   "nbconvert_exporter": "python",
   "pygments_lexer": "ipython3",
   "version": "3.11.2"
  }
 },
 "nbformat": 4,
 "nbformat_minor": 5
}
